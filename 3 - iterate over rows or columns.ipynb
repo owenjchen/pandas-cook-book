{
 "cells": [
  {
   "cell_type": "markdown",
   "id": "0df28357-e9b0-4bd3-8e1f-a43eb8cbcf65",
   "metadata": {},
   "source": [
    "## Iterate over Rows and Columns\n",
    "\n",
    "* Author: Owen Chen\n",
    "* Date: 4/17/2022\n",
    "\n",
    "In general, avoid iterate over rows or columns.  Use apply() and map() on a Panda series or applymap() on multiple columns and rows.\n",
    "\n",
    "Iterate over rows or columns as the last resolve. \n",
    "\n",
    "- Iterate over rows of a DataFrame by index labels\n",
    "- Iterate over rows of a DataFrame by index Positions\n",
    "- Iterate over columns of DataFrame using Column Names\n",
    "- Iterate over columns of DataFrame by column numbers\n",
    "\n",
    "* References:\n",
    "https://thispointer.com/pandas-tutorial-part-13-iterate-over-rows-columns-of-dataframe/"
   ]
  },
  {
   "cell_type": "code",
   "execution_count": 1,
   "id": "8dc2f741-1bb8-4372-a34f-11b487ea4943",
   "metadata": {},
   "outputs": [],
   "source": [
    "import pandas as pd"
   ]
  },
  {
   "cell_type": "code",
   "execution_count": 3,
   "id": "43a5e055-886d-4c7d-9404-b4a3d0afa6f5",
   "metadata": {},
   "outputs": [
    {
     "data": {
      "text/html": [
       "<div>\n",
       "<style scoped>\n",
       "    .dataframe tbody tr th:only-of-type {\n",
       "        vertical-align: middle;\n",
       "    }\n",
       "\n",
       "    .dataframe tbody tr th {\n",
       "        vertical-align: top;\n",
       "    }\n",
       "\n",
       "    .dataframe thead th {\n",
       "        text-align: right;\n",
       "    }\n",
       "</style>\n",
       "<table border=\"1\" class=\"dataframe\">\n",
       "  <thead>\n",
       "    <tr style=\"text-align: right;\">\n",
       "      <th></th>\n",
       "      <th>ID</th>\n",
       "      <th>Name</th>\n",
       "      <th>Age</th>\n",
       "      <th>City</th>\n",
       "      <th>Experience</th>\n",
       "    </tr>\n",
       "  </thead>\n",
       "  <tbody>\n",
       "    <tr>\n",
       "      <th>a</th>\n",
       "      <td>11</td>\n",
       "      <td>jack</td>\n",
       "      <td>34</td>\n",
       "      <td>Sydney</td>\n",
       "      <td>5</td>\n",
       "    </tr>\n",
       "    <tr>\n",
       "      <th>b</th>\n",
       "      <td>12</td>\n",
       "      <td>Riti</td>\n",
       "      <td>31</td>\n",
       "      <td>Delhi</td>\n",
       "      <td>7</td>\n",
       "    </tr>\n",
       "    <tr>\n",
       "      <th>c</th>\n",
       "      <td>13</td>\n",
       "      <td>Aadi</td>\n",
       "      <td>16</td>\n",
       "      <td>New York</td>\n",
       "      <td>11</td>\n",
       "    </tr>\n",
       "    <tr>\n",
       "      <th>d</th>\n",
       "      <td>14</td>\n",
       "      <td>Mohit</td>\n",
       "      <td>32</td>\n",
       "      <td>Delhi</td>\n",
       "      <td>15</td>\n",
       "    </tr>\n",
       "    <tr>\n",
       "      <th>e</th>\n",
       "      <td>15</td>\n",
       "      <td>Veena</td>\n",
       "      <td>33</td>\n",
       "      <td>Delhi</td>\n",
       "      <td>4</td>\n",
       "    </tr>\n",
       "    <tr>\n",
       "      <th>f</th>\n",
       "      <td>16</td>\n",
       "      <td>Shaunak</td>\n",
       "      <td>35</td>\n",
       "      <td>Mumbai</td>\n",
       "      <td>5</td>\n",
       "    </tr>\n",
       "    <tr>\n",
       "      <th>h</th>\n",
       "      <td>17</td>\n",
       "      <td>Shaun</td>\n",
       "      <td>35</td>\n",
       "      <td>Colombo</td>\n",
       "      <td>11</td>\n",
       "    </tr>\n",
       "  </tbody>\n",
       "</table>\n",
       "</div>"
      ],
      "text/plain": [
       "   ID     Name  Age      City  Experience\n",
       "a  11     jack   34    Sydney           5\n",
       "b  12     Riti   31     Delhi           7\n",
       "c  13     Aadi   16  New York          11\n",
       "d  14    Mohit   32     Delhi          15\n",
       "e  15    Veena   33     Delhi           4\n",
       "f  16  Shaunak   35    Mumbai           5\n",
       "h  17    Shaun   35   Colombo          11"
      ]
     },
     "execution_count": 3,
     "metadata": {},
     "output_type": "execute_result"
    }
   ],
   "source": [
    "# List of Tuples\n",
    "empoyees = [(11, 'jack', 34, 'Sydney', 5) ,\n",
    "            (12, 'Riti', 31, 'Delhi' , 7) ,\n",
    "            (13, 'Aadi', 16, 'New York', 11) ,\n",
    "            (14, 'Mohit', 32,'Delhi' , 15) ,\n",
    "            (15, 'Veena', 33, 'Delhi' , 4) ,\n",
    "            (16, 'Shaunak', 35, 'Mumbai', 5 ),\n",
    "            (17, 'Shaun', 35, 'Colombo', 11)]\n",
    "# Create a DataFrame object\n",
    "df = pd.DataFrame(  empoyees,\n",
    "                    columns=['ID', 'Name', 'Age', 'City', 'Experience'],\n",
    "                    index=['a', 'b', 'c', 'd', 'e', 'f', 'h'])\n",
    "# Display the DataFrame\n",
    "df"
   ]
  },
  {
   "cell_type": "markdown",
   "id": "20e0284a-dd80-40c8-8634-b003bf1b8c57",
   "metadata": {},
   "source": [
    "## Iterate over rows of a DataFrame by index labels\n",
    "* df.iterrows()"
   ]
  },
  {
   "cell_type": "code",
   "execution_count": 4,
   "id": "65ef873a-5381-400a-a8b4-3098895b29b8",
   "metadata": {},
   "outputs": [
    {
     "name": "stdout",
     "output_type": "stream",
     "text": [
      "Row Index label :  a\n",
      "Row Content as NumPy Array:  [11 'jack' 34 'Sydney' 5]\n",
      "Row Index label :  b\n",
      "Row Content as NumPy Array:  [12 'Riti' 31 'Delhi' 7]\n",
      "Row Index label :  c\n",
      "Row Content as NumPy Array:  [13 'Aadi' 16 'New York' 11]\n",
      "Row Index label :  d\n",
      "Row Content as NumPy Array:  [14 'Mohit' 32 'Delhi' 15]\n",
      "Row Index label :  e\n",
      "Row Content as NumPy Array:  [15 'Veena' 33 'Delhi' 4]\n",
      "Row Index label :  f\n",
      "Row Content as NumPy Array:  [16 'Shaunak' 35 'Mumbai' 5]\n",
      "Row Index label :  h\n",
      "Row Content as NumPy Array:  [17 'Shaun' 35 'Colombo' 11]\n"
     ]
    }
   ],
   "source": [
    "# Iterate over rows of DataFrame by Index Labels\n",
    "for (index_label, row_series) in df.iterrows():\n",
    "    print('Row Index label : ', index_label)\n",
    "    print('Row Content as NumPy Array: ', row_series.values)"
   ]
  },
  {
   "cell_type": "markdown",
   "id": "6fccf8b3-e337-4fe8-8b57-8d10e8640411",
   "metadata": {},
   "source": [
    "## Iterate over rows of a DataFrame by index Positions"
   ]
  },
  {
   "cell_type": "code",
   "execution_count": 8,
   "id": "eb617219-d176-488e-aa6a-44e2bef17fd2",
   "metadata": {},
   "outputs": [
    {
     "name": "stdout",
     "output_type": "stream",
     "text": [
      "Row Index Position :  0\n",
      "Row content as a pandas series:\n",
      "ID                11\n",
      "Name            jack\n",
      "Age               34\n",
      "City          Sydney\n",
      "Experience         5\n",
      "Name: a, dtype: object\n",
      "Row Content as NumPy Array:  [11 'jack' 34 'Sydney' 5]\n",
      "--------------------\n",
      "Row Index Position :  1\n",
      "Row content as a pandas series:\n",
      "ID               12\n",
      "Name           Riti\n",
      "Age              31\n",
      "City          Delhi\n",
      "Experience        7\n",
      "Name: b, dtype: object\n",
      "Row Content as NumPy Array:  [12 'Riti' 31 'Delhi' 7]\n",
      "--------------------\n",
      "Row Index Position :  2\n",
      "Row content as a pandas series:\n",
      "ID                  13\n",
      "Name              Aadi\n",
      "Age                 16\n",
      "City          New York\n",
      "Experience          11\n",
      "Name: c, dtype: object\n",
      "Row Content as NumPy Array:  [13 'Aadi' 16 'New York' 11]\n",
      "--------------------\n",
      "Row Index Position :  3\n",
      "Row content as a pandas series:\n",
      "ID               14\n",
      "Name          Mohit\n",
      "Age              32\n",
      "City          Delhi\n",
      "Experience       15\n",
      "Name: d, dtype: object\n",
      "Row Content as NumPy Array:  [14 'Mohit' 32 'Delhi' 15]\n",
      "--------------------\n",
      "Row Index Position :  4\n",
      "Row content as a pandas series:\n",
      "ID               15\n",
      "Name          Veena\n",
      "Age              33\n",
      "City          Delhi\n",
      "Experience        4\n",
      "Name: e, dtype: object\n",
      "Row Content as NumPy Array:  [15 'Veena' 33 'Delhi' 4]\n",
      "--------------------\n",
      "Row Index Position :  5\n",
      "Row content as a pandas series:\n",
      "ID                 16\n",
      "Name          Shaunak\n",
      "Age                35\n",
      "City           Mumbai\n",
      "Experience          5\n",
      "Name: f, dtype: object\n",
      "Row Content as NumPy Array:  [16 'Shaunak' 35 'Mumbai' 5]\n",
      "--------------------\n",
      "Row Index Position :  6\n",
      "Row content as a pandas series:\n",
      "ID                 17\n",
      "Name            Shaun\n",
      "Age                35\n",
      "City          Colombo\n",
      "Experience         11\n",
      "Name: h, dtype: object\n",
      "Row Content as NumPy Array:  [17 'Shaun' 35 'Colombo' 11]\n",
      "--------------------\n"
     ]
    }
   ],
   "source": [
    "# Iterate over rows of DataFrame by index positions\n",
    "for i in range(0, df.shape[0]):\n",
    "    print('Row Index Position : ', i)\n",
    "    print('Row content as a pandas series:')\n",
    "    print(df.iloc[i])\n",
    "    # Get row contents as NumPy Array from Series\n",
    "    rowContent = df.iloc[i].values\n",
    "    print('Row Content as NumPy Array: ', rowContent)\n",
    "    print(\"-\"*20)"
   ]
  },
  {
   "cell_type": "markdown",
   "id": "5f74413f-6931-48ce-93d0-f5fd460a33a1",
   "metadata": {},
   "source": [
    "## Iterate over columns of DataFrame using Column Names"
   ]
  },
  {
   "cell_type": "code",
   "execution_count": 9,
   "id": "67faec02-7fc2-4178-b7b3-c00c3df57023",
   "metadata": {},
   "outputs": [
    {
     "name": "stdout",
     "output_type": "stream",
     "text": [
      "Colunm Name :  ID\n",
      "Column Contents as NumPy Array:  [11 12 13 14 15 16 17]\n",
      "Colunm Name :  Name\n",
      "Column Contents as NumPy Array:  ['jack' 'Riti' 'Aadi' 'Mohit' 'Veena' 'Shaunak' 'Shaun']\n",
      "Colunm Name :  Age\n",
      "Column Contents as NumPy Array:  [34 31 16 32 33 35 35]\n",
      "Colunm Name :  City\n",
      "Column Contents as NumPy Array:  ['Sydney' 'Delhi' 'New York' 'Delhi' 'Delhi' 'Mumbai' 'Colombo']\n",
      "Colunm Name :  Experience\n",
      "Column Contents as NumPy Array:  [ 5  7 11 15  4  5 11]\n"
     ]
    }
   ],
   "source": [
    "for column in df.columns:\n",
    "    # Select column contents by column name using [] operator\n",
    "    columnSeriesObj = df[column]\n",
    "    print('Colunm Name : ', column)\n",
    "    print('Column Contents as NumPy Array: ', columnSeriesObj.values)"
   ]
  },
  {
   "cell_type": "markdown",
   "id": "fc8e55c0-ec53-47f0-b9a1-33ef85fdc9f8",
   "metadata": {},
   "source": [
    "## Iterate over columns of DataFrame by column numbers"
   ]
  },
  {
   "cell_type": "code",
   "execution_count": 10,
   "id": "4c7df915-014d-4e61-b2c3-8384bcea745e",
   "metadata": {},
   "outputs": [
    {
     "name": "stdout",
     "output_type": "stream",
     "text": [
      "Colunm Number/Position:  0\n",
      "Column contents:  [11 12 13 14 15 16 17]\n",
      "Colunm Number/Position:  1\n",
      "Column contents:  ['jack' 'Riti' 'Aadi' 'Mohit' 'Veena' 'Shaunak' 'Shaun']\n",
      "Colunm Number/Position:  2\n",
      "Column contents:  [34 31 16 32 33 35 35]\n",
      "Colunm Number/Position:  3\n",
      "Column contents:  ['Sydney' 'Delhi' 'New York' 'Delhi' 'Delhi' 'Mumbai' 'Colombo']\n",
      "Colunm Number/Position:  4\n",
      "Column contents:  [ 5  7 11 15  4  5 11]\n"
     ]
    }
   ],
   "source": [
    "# Iterate over columns of DataFrame by index positions\n",
    "for i in range(0, df.shape[1]):\n",
    "    print('Colunm Number/Position: ', i)\n",
    "    # Get column contents as NumPy Array\n",
    "    columnContent = df.iloc[:, i].values\n",
    "    print('Column contents: ', columnContent)"
   ]
  },
  {
   "cell_type": "code",
   "execution_count": null,
   "id": "c1d63f2f-654a-48c4-a633-d48ebb703e39",
   "metadata": {},
   "outputs": [],
   "source": []
  }
 ],
 "metadata": {
  "kernelspec": {
   "display_name": "Python 3 (ipykernel)",
   "language": "python",
   "name": "python3"
  },
  "language_info": {
   "codemirror_mode": {
    "name": "ipython",
    "version": 3
   },
   "file_extension": ".py",
   "mimetype": "text/x-python",
   "name": "python",
   "nbconvert_exporter": "python",
   "pygments_lexer": "ipython3",
   "version": "3.9.7"
  }
 },
 "nbformat": 4,
 "nbformat_minor": 5
}
