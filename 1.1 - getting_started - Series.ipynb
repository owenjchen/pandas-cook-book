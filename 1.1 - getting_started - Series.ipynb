{
 "cells": [
  {
   "cell_type": "markdown",
   "id": "4eedaf6c-296c-442c-92ec-60b8a4595781",
   "metadata": {
    "slideshow": {
     "slide_type": "slide"
    },
    "tags": []
   },
   "source": [
    "# Getting Started - Pandas Series\n",
    "\n",
    "* References:\n",
    "  * https://pandas.pydata.org/docs/user_guide/10min.html\n",
    "  * https://pandas.pydata.org/docs/user_guide/dsintro.html\n",
    "\n",
    "We will begin by introducing the `Series`, `DataFrame`, and `Index` classes, which are the basic building blocks of the pandas library, and showing how to work with them. By the end of this section, you will be able to create DataFrames and perform operations on them to inspect and filter the data."
   ]
  },
  {
   "cell_type": "markdown",
   "id": "2d3efc7d-3a30-4eb9-a1c4-d42c749d2de2",
   "metadata": {},
   "source": [
    "## Intro to data structures\n",
    "\n",
    "We’ll start with a quick, non-comprehensive overview of the fundamental data structures in pandas to get you started. The fundamental behavior about data types, indexing, and axis labeling / alignment apply across all of the objects. \n",
    "\n",
    "* pandas series\n",
    "* pandas DataFrame\n",
    "\n",
    "How to create a pandas series or a dataframe from an existing Python data structure:\n",
    "\n",
    "* a numpy ndarray\n",
    "* a list of lists\n",
    "* a list of Namedtuples\n",
    "* a list of Dictionaries\n",
    "\n",
    "To get started, import NumPy and load pandas into your namespace:"
   ]
  },
  {
   "cell_type": "code",
   "execution_count": 64,
   "id": "a97dfb23-6ce1-4552-88f1-ab1a88d63a6b",
   "metadata": {},
   "outputs": [],
   "source": [
    "import numpy as np\n",
    "import pandas as pd"
   ]
  },
  {
   "cell_type": "markdown",
   "id": "8d186b08-70a5-4c8d-9165-bb7f15f2a6a0",
   "metadata": {},
   "source": [
    "## 1. Create a Pandas Series\n",
    "\n",
    "Series is a one-dimensional labeled array capable of holding any data type \n",
    "(integers, strings, floating point numbers, Python objects, etc.). \n",
    "The axis labels are collectively referred to as the index. The basic method to create a Series is to call:\n",
    "    \n",
    "> s = pd.Series(data, index=index)\n",
    "\n",
    "Here, data can be many different things:\n",
    "\n",
    "* a Python dict\n",
    "\n",
    "* an ndarray\n",
    "\n",
    "* a scalar value (like 5)\n",
    "\n",
    "The passed index is a list of axis labels. Thus, this separates into a few cases depending on what data is:\n",
    "    "
   ]
  },
  {
   "cell_type": "markdown",
   "id": "659bf602-6fdb-49c9-b920-e2608397f924",
   "metadata": {},
   "source": [
    "### 1.1 Create a series from ndarray\n",
    "\n",
    "If data is an ndarray, index must be the same length as data. If no index is passed, one will be created having values [0, ..., len(data) - 1]."
   ]
  },
  {
   "cell_type": "code",
   "execution_count": 65,
   "id": "66270446-b0d5-4d58-91f8-d6a41bce5639",
   "metadata": {},
   "outputs": [
    {
     "data": {
      "text/plain": [
       "0   -1.823149\n",
       "1   -1.416792\n",
       "2   -0.098841\n",
       "3   -0.071691\n",
       "4   -0.361604\n",
       "dtype: float64"
      ]
     },
     "execution_count": 65,
     "metadata": {},
     "output_type": "execute_result"
    }
   ],
   "source": [
    "# Create a pandas series from a numpy 5x1 ndarray using a standard norm random.randn()\n",
    "s = pd.Series(np.random.randn(5))\n",
    "s              "
   ]
  },
  {
   "cell_type": "code",
   "execution_count": 66,
   "id": "2d26a1d1-5711-4f78-a0d4-ec7a21a2188d",
   "metadata": {},
   "outputs": [
    {
     "data": {
      "text/plain": [
       "a    1.957541\n",
       "b   -0.680687\n",
       "c   -0.606930\n",
       "d    0.094761\n",
       "e    1.603763\n",
       "dtype: float64"
      ]
     },
     "execution_count": 66,
     "metadata": {},
     "output_type": "execute_result"
    }
   ],
   "source": [
    "#Create a series with a named index\n",
    "s = pd.Series(np.random.randn(5), index=[\"a\", \"b\", \"c\", \"d\", \"e\"])\n",
    "s"
   ]
  },
  {
   "cell_type": "markdown",
   "id": "91a619ac-da25-4de8-beb7-1ed3b1327aca",
   "metadata": {},
   "source": [
    "### 1.2 Create a series from a list\n"
   ]
  },
  {
   "cell_type": "code",
   "execution_count": 67,
   "id": "0d4849de-ad8d-463d-a698-97d1fc6bf776",
   "metadata": {},
   "outputs": [
    {
     "data": {
      "text/plain": [
       "0    100\n",
       "1    101\n",
       "2    102\n",
       "3    103\n",
       "4    104\n",
       "dtype: int64"
      ]
     },
     "execution_count": 67,
     "metadata": {},
     "output_type": "execute_result"
    }
   ],
   "source": [
    "# Create a pandas series a list using range()\n",
    "s = pd.Series(range(100,105))\n",
    "s    "
   ]
  },
  {
   "cell_type": "code",
   "execution_count": 68,
   "id": "309bc33b-6137-48e6-98c2-dce047e9308b",
   "metadata": {},
   "outputs": [
    {
     "data": {
      "text/plain": [
       "0      a\n",
       "1      b\n",
       "2      c\n",
       "3      d\n",
       "4      1\n",
       "5      2\n",
       "6    3.5\n",
       "dtype: object"
      ]
     },
     "execution_count": 68,
     "metadata": {},
     "output_type": "execute_result"
    }
   ],
   "source": [
    "# Create a pandas series a list of mixed data types\n",
    "s = pd.Series(['a','b','c','d',1, 2, 3.50])\n",
    "s    "
   ]
  },
  {
   "cell_type": "code",
   "execution_count": 69,
   "id": "af6bbe97-1500-44b9-a9c8-9a482e81c5b4",
   "metadata": {},
   "outputs": [
    {
     "data": {
      "text/plain": [
       "1     a\n",
       "2     b\n",
       "3     c\n",
       "4     d\n",
       "5     e\n",
       "6     f\n",
       "7     g\n",
       "8     h\n",
       "9     i\n",
       "10    j\n",
       "11    k\n",
       "12    l\n",
       "13    m\n",
       "14    n\n",
       "15    o\n",
       "16    p\n",
       "17    q\n",
       "18    r\n",
       "19    s\n",
       "20    t\n",
       "21    u\n",
       "22    v\n",
       "23    w\n",
       "24    x\n",
       "25    y\n",
       "26    z\n",
       "dtype: object"
      ]
     },
     "execution_count": 69,
     "metadata": {},
     "output_type": "execute_result"
    }
   ],
   "source": [
    "# Create 26 lower case alphabet letters using a list comprehension\n",
    "alphabet = pd.Series([chr(ord('a') + i) for i in range(26)], index=range(1, 27))\n",
    "alphabet "
   ]
  },
  {
   "cell_type": "markdown",
   "id": "2b9f3a2b-9f61-4d43-a2e3-5d9b4f6269d0",
   "metadata": {},
   "source": [
    "### 1.3 Create a series from dict\n",
    "\n",
    "Series can be instantiated from dicts:"
   ]
  },
  {
   "cell_type": "code",
   "execution_count": 70,
   "id": "1e657200-fdf5-4acd-82f9-6aa87db9f99d",
   "metadata": {},
   "outputs": [
    {
     "data": {
      "text/plain": [
       "b    1\n",
       "a    0\n",
       "c    2\n",
       "dtype: int64"
      ]
     },
     "execution_count": 70,
     "metadata": {},
     "output_type": "execute_result"
    }
   ],
   "source": [
    "d = {\"b\": 1, \"a\": 0, \"c\": 2}\n",
    "pd.Series(d)"
   ]
  },
  {
   "cell_type": "markdown",
   "id": "1b56e311-1929-40d6-9bd2-abfe3d5b6499",
   "metadata": {},
   "source": [
    "<b> Note</b>: \n",
    "> When the data is a dict, and an index is not passed, the Series index will be ordered by the dict’s insertion order"
   ]
  },
  {
   "cell_type": "markdown",
   "id": "61fc1e3d-d8d3-4c86-88c1-20ed5e4dec08",
   "metadata": {},
   "source": [
    "### 1.4 Create a series from a scalar value"
   ]
  },
  {
   "cell_type": "code",
   "execution_count": 71,
   "id": "73193a13-504c-467c-917a-7e7eec42d534",
   "metadata": {},
   "outputs": [
    {
     "data": {
      "text/plain": [
       "0    4.0\n",
       "1    4.0\n",
       "2    4.0\n",
       "3    4.0\n",
       "4    4.0\n",
       "dtype: float64"
      ]
     },
     "execution_count": 71,
     "metadata": {},
     "output_type": "execute_result"
    }
   ],
   "source": [
    "# Create a 5-element series with each element value of 4.0\n",
    "s2 = pd.Series(4.0, index=range(5))\n",
    "s2"
   ]
  },
  {
   "cell_type": "code",
   "execution_count": 76,
   "id": "eb2d1191-2063-4209-b937-187850435972",
   "metadata": {},
   "outputs": [
    {
     "data": {
      "text/plain": [
       "a    4.0\n",
       "b    4.0\n",
       "c    4.0\n",
       "d    4.0\n",
       "e    4.0\n",
       "dtype: float64"
      ]
     },
     "execution_count": 76,
     "metadata": {},
     "output_type": "execute_result"
    }
   ],
   "source": [
    "# With a named index\n",
    "s = pd.Series(4.0, index=[\"a\", \"b\", \"c\", \"d\", \"e\"])\n",
    "s"
   ]
  },
  {
   "cell_type": "markdown",
   "id": "402ffda4-4ab0-4a74-8937-7197c53493a8",
   "metadata": {},
   "source": [
    "### 2. Selecting and Slicing\n",
    "Selecting one element or a slice of elements from a pandas series is similar to slecting and slicing a Python list and a Python dict:"
   ]
  },
  {
   "cell_type": "code",
   "execution_count": 77,
   "id": "ae4b06ae-2013-45c3-a0ab-7543982241cb",
   "metadata": {},
   "outputs": [
    {
     "data": {
      "text/plain": [
       "4.0"
      ]
     },
     "execution_count": 77,
     "metadata": {},
     "output_type": "execute_result"
    }
   ],
   "source": [
    "# Using an index value\n",
    "s[0]"
   ]
  },
  {
   "cell_type": "code",
   "execution_count": 78,
   "id": "61f565cf-8bc6-4087-8ea8-837f2fe3e763",
   "metadata": {},
   "outputs": [
    {
     "data": {
      "text/plain": [
       "4.0"
      ]
     },
     "execution_count": 78,
     "metadata": {},
     "output_type": "execute_result"
    }
   ],
   "source": [
    "# Using an index name like a dictionary\n",
    "s['a']"
   ]
  },
  {
   "cell_type": "code",
   "execution_count": 79,
   "id": "879de148-35c9-4950-9bb1-c50325b138e6",
   "metadata": {},
   "outputs": [
    {
     "data": {
      "text/plain": [
       "a    4.0\n",
       "b    4.0\n",
       "c    4.0\n",
       "dtype: float64"
      ]
     },
     "execution_count": 79,
     "metadata": {},
     "output_type": "execute_result"
    }
   ],
   "source": [
    "# First 3 elements 0,1,2\n",
    "s[:3]"
   ]
  },
  {
   "cell_type": "code",
   "execution_count": 80,
   "id": "d2d02601-1da0-48e4-bdec-4adb6ad697ec",
   "metadata": {},
   "outputs": [
    {
     "data": {
      "text/plain": [
       "4.0"
      ]
     },
     "execution_count": 80,
     "metadata": {},
     "output_type": "execute_result"
    }
   ],
   "source": [
    "# last element\n",
    "s[-1]"
   ]
  },
  {
   "cell_type": "code",
   "execution_count": 81,
   "id": "0b03ea70-c01a-4216-b416-f2a74c5e387c",
   "metadata": {},
   "outputs": [
    {
     "data": {
      "text/plain": [
       "a    4.0\n",
       "b    4.0\n",
       "c    4.0\n",
       "d    4.0\n",
       "e    4.0\n",
       "dtype: float64"
      ]
     },
     "execution_count": 81,
     "metadata": {},
     "output_type": "execute_result"
    }
   ],
   "source": [
    "# all elements\n",
    "s[:]"
   ]
  },
  {
   "cell_type": "code",
   "execution_count": 82,
   "id": "aedd0312-f91f-4086-ace5-fd43d270d481",
   "metadata": {},
   "outputs": [
    {
     "data": {
      "text/plain": [
       "e    4.0\n",
       "d    4.0\n",
       "c    4.0\n",
       "b    4.0\n",
       "a    4.0\n",
       "dtype: float64"
      ]
     },
     "execution_count": 82,
     "metadata": {},
     "output_type": "execute_result"
    }
   ],
   "source": [
    "# Reversed order\n",
    "s[::-1]"
   ]
  },
  {
   "cell_type": "markdown",
   "id": "4b3367ca-e744-4fe5-b6ca-70ec8e97925d",
   "metadata": {},
   "source": [
    "## 3. Series Data Type - dtype()\n",
    "Like a NumPy array, a pandas Series has a dtype.\n",
    "\n",
    "For the most part, pandas uses NumPy arrays and dtypes for Series or individual columns of a DataFrame. Here is a list of Pandas dtypes:\n",
    "\n",
    "* 'O' - object:  for text or mixed numeric and string values\n",
    "* 'float64' - float64: floating point number, same as Python type of float\n",
    "* 'int64' - int64: integer numbers, same as Python type of int\n",
    "* 'bool' - bool: True/False values, same as Python type of bool\n",
    "* '<M8[ns]' - datetime64: Date and time values\n",
    "* '<m8[ns]' - timedelta64: differences between two datetimes\n",
    "* category: finite list of text values\n",
    "\n",
    "\n",
    "\n",
    "pandas and third-party libraries extend NumPy’s type system in a few places. This section describes the extensions pandas has made internally. See Extension types for how to write your own extension that works with pandas. See Extension data types for a list of third-party libraries that have implemented an extension.\n",
    "\n",
    "The following table lists all of pandas extension types. For methods requiring dtype arguments, strings can be specified as indicated. See the respective documentation sections for more on each type.\n",
    "\n",
    "https://pandas.pydata.org/docs/user_guide/basics.html#basics-dtypes"
   ]
  },
  {
   "cell_type": "code",
   "execution_count": 83,
   "id": "2a026c76-800b-4395-b1ea-0a75242156fa",
   "metadata": {},
   "outputs": [
    {
     "data": {
      "text/plain": [
       "dtype('O')"
      ]
     },
     "execution_count": 83,
     "metadata": {},
     "output_type": "execute_result"
    }
   ],
   "source": [
    "s = pd.Series(['a','b','c','d',1, 2, 3.50])\n",
    "s.dtype"
   ]
  },
  {
   "cell_type": "code",
   "execution_count": 84,
   "id": "9ab2be3b-50fe-4b77-a8d1-8104644f98f5",
   "metadata": {},
   "outputs": [
    {
     "data": {
      "text/plain": [
       "dtype('float64')"
      ]
     },
     "execution_count": 84,
     "metadata": {},
     "output_type": "execute_result"
    }
   ],
   "source": [
    "s = pd.Series(np.random.randn(5), index=[\"a\", \"b\", \"c\", \"d\", \"e\"])\n",
    "s.dtype"
   ]
  },
  {
   "cell_type": "code",
   "execution_count": 85,
   "id": "fd888a1a-fc00-4c23-9fee-b1757550781f",
   "metadata": {},
   "outputs": [
    {
     "data": {
      "text/plain": [
       "[datetime.datetime(2022, 4, 3, 22, 42, 17, 920601),\n",
       " datetime.datetime(2022, 4, 2, 22, 42, 17, 920601),\n",
       " datetime.datetime(2022, 4, 1, 22, 42, 17, 920601),\n",
       " datetime.datetime(2022, 3, 31, 22, 42, 17, 920601),\n",
       " datetime.datetime(2022, 3, 30, 22, 42, 17, 920601),\n",
       " datetime.datetime(2022, 3, 29, 22, 42, 17, 920601),\n",
       " datetime.datetime(2022, 3, 28, 22, 42, 17, 920601)]"
      ]
     },
     "execution_count": 85,
     "metadata": {},
     "output_type": "execute_result"
    }
   ],
   "source": [
    "import datetime\n",
    "today = datetime.datetime.now()\n",
    "daydiff = [datetime.timedelta(days=i) for i in range(7)]\n",
    "lastweek=[today - datetime.timedelta(days=i) for i in range(7)]\n",
    "lastweek"
   ]
  },
  {
   "cell_type": "code",
   "execution_count": 86,
   "id": "768a1652-0ada-4888-863a-0c2924bf4a2a",
   "metadata": {},
   "outputs": [
    {
     "data": {
      "text/plain": [
       "dtype('<M8[ns]')"
      ]
     },
     "execution_count": 86,
     "metadata": {},
     "output_type": "execute_result"
    }
   ],
   "source": [
    "s = pd.Series(lastweek)\n",
    "s.dtype"
   ]
  },
  {
   "cell_type": "code",
   "execution_count": 87,
   "id": "38dd2169-916c-42fb-9b58-8524608d41d6",
   "metadata": {},
   "outputs": [
    {
     "data": {
      "text/plain": [
       "dtype('<m8[ns]')"
      ]
     },
     "execution_count": 87,
     "metadata": {},
     "output_type": "execute_result"
    }
   ],
   "source": [
    "s = pd.Series(daydiff)\n",
    "s.dtype "
   ]
  },
  {
   "cell_type": "code",
   "execution_count": 88,
   "id": "dfed0fc4-def1-4752-bd2e-13244b82ba6a",
   "metadata": {},
   "outputs": [
    {
     "data": {
      "text/plain": [
       "CategoricalDtype(categories=['b', 'a'], ordered=True)"
      ]
     },
     "execution_count": 88,
     "metadata": {},
     "output_type": "execute_result"
    }
   ],
   "source": [
    "t = pd.CategoricalDtype(categories=['b', 'a'], ordered=True)\n",
    "s = pd.Series(['a', 'b', 'a', 'c'], dtype=t)\n",
    "s.dtype"
   ]
  },
  {
   "cell_type": "code",
   "execution_count": 89,
   "id": "713b159c-53e4-42c1-8311-94f6525bb1b2",
   "metadata": {},
   "outputs": [
    {
     "data": {
      "text/plain": [
       "dtype('bool')"
      ]
     },
     "execution_count": 89,
     "metadata": {},
     "output_type": "execute_result"
    }
   ],
   "source": [
    "boolist = [True if i > 3 else False for i in range(5)]\n",
    "s = pd.Series(boolist)\n",
    "s.dtype"
   ]
  },
  {
   "cell_type": "markdown",
   "id": "1c5b3cb3-5ed1-4329-a310-d00c035a962b",
   "metadata": {},
   "source": [
    "## 4. Apply Numpy functions to a Series\n",
    "\n",
    "Series acts very similarly to a ndarray, and is a valid argument to most NumPy functions. However, operations such as slicing will also slice the index."
   ]
  },
  {
   "cell_type": "code",
   "execution_count": 90,
   "id": "ad35ea12-1f14-41b6-a944-691d749f9ffa",
   "metadata": {},
   "outputs": [
    {
     "name": "stdout",
     "output_type": "stream",
     "text": [
      "2.091985513185935 -1.6127533657641944 3.977740181035993 0.7955480362071986 1.2939159588772036\n",
      "cumsum():\n",
      "0    1.642270\n",
      "1    3.734255\n",
      "2    4.399373\n",
      "3    2.786620\n",
      "4    3.977740\n",
      "dtype: float64\n",
      "exp():\n",
      "0    5.166883\n",
      "1    8.100984\n",
      "2    1.944720\n",
      "3    0.199338\n",
      "4    3.290766\n",
      "dtype: float64\n",
      "sqrt(abs())\n",
      "0    1.281511\n",
      "1    1.446370\n",
      "2    0.815548\n",
      "3    1.269942\n",
      "4    1.091385\n",
      "dtype: float64\n"
     ]
    }
   ],
   "source": [
    "s = pd.Series(np.random.randn(5))\n",
    "max = np.max(s)\n",
    "min = np.min(s)              \n",
    "sum = np.sum(s)\n",
    "mean = np.mean(s)\n",
    "std = np.std(s)\n",
    "cumsum = np.cumsum(s)\n",
    "exp = np.exp(s)\n",
    "sqrt = np.sqrt(abs(s))\n",
    "print(max, min,sum, mean, std)\n",
    "print(\"cumsum():\")\n",
    "print(cumsum)\n",
    "print(\"exp():\")\n",
    "print(exp)\n",
    "print(\"sqrt(abs())\")\n",
    "print(sqrt)"
   ]
  },
  {
   "cell_type": "code",
   "execution_count": 91,
   "id": "6b19d52b-dc6a-4007-a6d3-9ac998290e0f",
   "metadata": {},
   "outputs": [
    {
     "name": "stdout",
     "output_type": "stream",
     "text": [
      "2.091985513185935 -1.6127533657641944 3.977740181035993 0.7955480362071986 1.446642020610625\n",
      "cumsum():\n",
      "0    1.642270\n",
      "1    3.734255\n",
      "2    4.399373\n",
      "3    2.786620\n",
      "4    3.977740\n",
      "dtype: float64\n"
     ]
    }
   ],
   "source": [
    "# Of course we could use pd series functions directly\n",
    "max = s.max()\n",
    "min = s.min()\n",
    "sum = s.sum()\n",
    "mean = s.mean()\n",
    "std = s.std()\n",
    "cumsum = s.cumsum()\n",
    "print(max, min,sum, mean, std)\n",
    "print(\"cumsum():\")\n",
    "print(cumsum)"
   ]
  },
  {
   "cell_type": "code",
   "execution_count": null,
   "id": "09c10f43-79f4-47f4-befa-97988a88a690",
   "metadata": {},
   "outputs": [],
   "source": []
  }
 ],
 "metadata": {
  "kernelspec": {
   "display_name": "Python 3 (ipykernel)",
   "language": "python",
   "name": "python3"
  },
  "language_info": {
   "codemirror_mode": {
    "name": "ipython",
    "version": 3
   },
   "file_extension": ".py",
   "mimetype": "text/x-python",
   "name": "python",
   "nbconvert_exporter": "python",
   "pygments_lexer": "ipython3",
   "version": "3.9.7"
  }
 },
 "nbformat": 4,
 "nbformat_minor": 5
}
