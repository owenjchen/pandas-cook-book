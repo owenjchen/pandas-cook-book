{
 "cells": [
  {
   "cell_type": "code",
   "execution_count": 9,
   "id": "e2dfe229-0646-42fc-a5a9-1ad62999eba1",
   "metadata": {},
   "outputs": [],
   "source": [
    "import numpy as np\n",
    "import pandas as pd\n",
    "import datetime"
   ]
  },
  {
   "cell_type": "code",
   "execution_count": 68,
   "id": "d9f9859c-bdf9-4a2a-bb59-504445b3bc99",
   "metadata": {},
   "outputs": [],
   "source": [
    "date_list = np.array(['2005-02-01', '2005-02-02', '2005-02-03',\n",
    "       '2005-02-05', '2005-02-06', '2005-02-07', '2005-02-08', '2005-02-09',\n",
    "       '2005-02-11', '2005-02-12',\n",
    "       '2005-02-14', '2005-02-15', '2005-02-16', '2005-02-17',\n",
    "       '2005-02-19', '2005-02-20',\n",
    "       '2005-02-22', '2005-02-23', '2005-02-24',\n",
    "       '2005-02-25', '2005-02-26', '2005-02-27', '2005-02-28'],\n",
    "      dtype='datetime64[D]')"
   ]
  },
  {
   "cell_type": "code",
   "execution_count": 69,
   "id": "e7ef2bee-e48f-4139-9a11-130793b4f0cb",
   "metadata": {},
   "outputs": [
    {
     "data": {
      "text/plain": [
       "0    2005-02-01\n",
       "1    2005-02-02\n",
       "2    2005-02-03\n",
       "3    2005-02-05\n",
       "4    2005-02-06\n",
       "5    2005-02-07\n",
       "6    2005-02-08\n",
       "7    2005-02-09\n",
       "8    2005-02-11\n",
       "9    2005-02-12\n",
       "10   2005-02-14\n",
       "11   2005-02-15\n",
       "12   2005-02-16\n",
       "13   2005-02-17\n",
       "14   2005-02-19\n",
       "15   2005-02-20\n",
       "16   2005-02-22\n",
       "17   2005-02-23\n",
       "18   2005-02-24\n",
       "19   2005-02-25\n",
       "20   2005-02-26\n",
       "21   2005-02-27\n",
       "22   2005-02-28\n",
       "dtype: datetime64[ns]"
      ]
     },
     "execution_count": 69,
     "metadata": {},
     "output_type": "execute_result"
    }
   ],
   "source": [
    "ps = pd.Series(date_list)\n",
    "ps"
   ]
  },
  {
   "cell_type": "code",
   "execution_count": 70,
   "id": "de0c6402-e1fa-47af-b3d2-33236bc57e17",
   "metadata": {},
   "outputs": [
    {
     "data": {
      "text/plain": [
       "datetime.timedelta(days=1)"
      ]
     },
     "execution_count": 70,
     "metadata": {},
     "output_type": "execute_result"
    }
   ],
   "source": [
    "day1 = datetime.timedelta(days=1)\n",
    "day1"
   ]
  },
  {
   "cell_type": "code",
   "execution_count": 71,
   "id": "d32fffb5-7f15-4c2f-9950-d75843c0ebb3",
   "metadata": {},
   "outputs": [
    {
     "data": {
      "text/html": [
       "<div>\n",
       "<style scoped>\n",
       "    .dataframe tbody tr th:only-of-type {\n",
       "        vertical-align: middle;\n",
       "    }\n",
       "\n",
       "    .dataframe tbody tr th {\n",
       "        vertical-align: top;\n",
       "    }\n",
       "\n",
       "    .dataframe thead th {\n",
       "        text-align: right;\n",
       "    }\n",
       "</style>\n",
       "<table border=\"1\" class=\"dataframe\">\n",
       "  <thead>\n",
       "    <tr style=\"text-align: right;\">\n",
       "      <th></th>\n",
       "      <th>date</th>\n",
       "      <th>group</th>\n",
       "    </tr>\n",
       "  </thead>\n",
       "  <tbody>\n",
       "    <tr>\n",
       "      <th>0</th>\n",
       "      <td>2005-02-01</td>\n",
       "      <td>1</td>\n",
       "    </tr>\n",
       "    <tr>\n",
       "      <th>1</th>\n",
       "      <td>2005-02-02</td>\n",
       "      <td>1</td>\n",
       "    </tr>\n",
       "    <tr>\n",
       "      <th>2</th>\n",
       "      <td>2005-02-03</td>\n",
       "      <td>1</td>\n",
       "    </tr>\n",
       "    <tr>\n",
       "      <th>3</th>\n",
       "      <td>2005-02-05</td>\n",
       "      <td>2</td>\n",
       "    </tr>\n",
       "    <tr>\n",
       "      <th>4</th>\n",
       "      <td>2005-02-06</td>\n",
       "      <td>2</td>\n",
       "    </tr>\n",
       "    <tr>\n",
       "      <th>5</th>\n",
       "      <td>2005-02-07</td>\n",
       "      <td>2</td>\n",
       "    </tr>\n",
       "    <tr>\n",
       "      <th>6</th>\n",
       "      <td>2005-02-08</td>\n",
       "      <td>2</td>\n",
       "    </tr>\n",
       "    <tr>\n",
       "      <th>7</th>\n",
       "      <td>2005-02-09</td>\n",
       "      <td>2</td>\n",
       "    </tr>\n",
       "    <tr>\n",
       "      <th>8</th>\n",
       "      <td>2005-02-11</td>\n",
       "      <td>3</td>\n",
       "    </tr>\n",
       "    <tr>\n",
       "      <th>9</th>\n",
       "      <td>2005-02-12</td>\n",
       "      <td>3</td>\n",
       "    </tr>\n",
       "    <tr>\n",
       "      <th>10</th>\n",
       "      <td>2005-02-14</td>\n",
       "      <td>4</td>\n",
       "    </tr>\n",
       "    <tr>\n",
       "      <th>11</th>\n",
       "      <td>2005-02-15</td>\n",
       "      <td>4</td>\n",
       "    </tr>\n",
       "    <tr>\n",
       "      <th>12</th>\n",
       "      <td>2005-02-16</td>\n",
       "      <td>4</td>\n",
       "    </tr>\n",
       "    <tr>\n",
       "      <th>13</th>\n",
       "      <td>2005-02-17</td>\n",
       "      <td>4</td>\n",
       "    </tr>\n",
       "    <tr>\n",
       "      <th>14</th>\n",
       "      <td>2005-02-19</td>\n",
       "      <td>5</td>\n",
       "    </tr>\n",
       "    <tr>\n",
       "      <th>15</th>\n",
       "      <td>2005-02-20</td>\n",
       "      <td>5</td>\n",
       "    </tr>\n",
       "    <tr>\n",
       "      <th>16</th>\n",
       "      <td>2005-02-22</td>\n",
       "      <td>6</td>\n",
       "    </tr>\n",
       "    <tr>\n",
       "      <th>17</th>\n",
       "      <td>2005-02-23</td>\n",
       "      <td>6</td>\n",
       "    </tr>\n",
       "    <tr>\n",
       "      <th>18</th>\n",
       "      <td>2005-02-24</td>\n",
       "      <td>6</td>\n",
       "    </tr>\n",
       "    <tr>\n",
       "      <th>19</th>\n",
       "      <td>2005-02-25</td>\n",
       "      <td>6</td>\n",
       "    </tr>\n",
       "    <tr>\n",
       "      <th>20</th>\n",
       "      <td>2005-02-26</td>\n",
       "      <td>6</td>\n",
       "    </tr>\n",
       "    <tr>\n",
       "      <th>21</th>\n",
       "      <td>2005-02-27</td>\n",
       "      <td>6</td>\n",
       "    </tr>\n",
       "    <tr>\n",
       "      <th>22</th>\n",
       "      <td>2005-02-28</td>\n",
       "      <td>6</td>\n",
       "    </tr>\n",
       "  </tbody>\n",
       "</table>\n",
       "</div>"
      ],
      "text/plain": [
       "         date  group\n",
       "0  2005-02-01      1\n",
       "1  2005-02-02      1\n",
       "2  2005-02-03      1\n",
       "3  2005-02-05      2\n",
       "4  2005-02-06      2\n",
       "5  2005-02-07      2\n",
       "6  2005-02-08      2\n",
       "7  2005-02-09      2\n",
       "8  2005-02-11      3\n",
       "9  2005-02-12      3\n",
       "10 2005-02-14      4\n",
       "11 2005-02-15      4\n",
       "12 2005-02-16      4\n",
       "13 2005-02-17      4\n",
       "14 2005-02-19      5\n",
       "15 2005-02-20      5\n",
       "16 2005-02-22      6\n",
       "17 2005-02-23      6\n",
       "18 2005-02-24      6\n",
       "19 2005-02-25      6\n",
       "20 2005-02-26      6\n",
       "21 2005-02-27      6\n",
       "22 2005-02-28      6"
      ]
     },
     "execution_count": 71,
     "metadata": {},
     "output_type": "execute_result"
    }
   ],
   "source": [
    "grp = ps.diff().ne(day1).cumsum()\n",
    "df = pd.concat([ps, grp], axis=1)\n",
    "df.columns=['date', 'group']\n",
    "df"
   ]
  },
  {
   "cell_type": "code",
   "execution_count": 72,
   "id": "d9a170ac-df06-44c5-a51c-b0bf9f908acb",
   "metadata": {},
   "outputs": [
    {
     "data": {
      "text/plain": [
       "group\n",
       "6    7\n",
       "2    5\n",
       "4    4\n",
       "1    3\n",
       "3    2\n",
       "5    2\n",
       "dtype: int64"
      ]
     },
     "execution_count": 72,
     "metadata": {},
     "output_type": "execute_result"
    }
   ],
   "source": [
    "df_groupby=df.groupby('group').size()\n",
    "df_groupby= df_groupby.sort_values(axis=0, ascending=False)\n",
    "df_groupby"
   ]
  },
  {
   "cell_type": "code",
   "execution_count": 73,
   "id": "2c1813c8-84ff-4043-b267-a115f9f7b0ca",
   "metadata": {},
   "outputs": [
    {
     "name": "stdout",
     "output_type": "stream",
     "text": [
      "6 7\n",
      "         date  group\n",
      "16 2005-02-22      6\n",
      "17 2005-02-23      6\n",
      "18 2005-02-24      6\n",
      "19 2005-02-25      6\n",
      "20 2005-02-26      6\n",
      "21 2005-02-27      6\n",
      "22 2005-02-28      6\n"
     ]
    }
   ],
   "source": [
    "maxgroup = df_groupby.index[0]\n",
    "maxvalue = df_groupby[maxgroup]\n",
    "dates = df[df.group==maxgroup]\n",
    "print(maxgroup, maxvalue)\n",
    "print(dates)"
   ]
  },
  {
   "cell_type": "code",
   "execution_count": 87,
   "id": "f23570d3-0d57-436d-85f6-fb14a2c09092",
   "metadata": {},
   "outputs": [
    {
     "data": {
      "text/plain": [
       "23"
      ]
     },
     "execution_count": 87,
     "metadata": {},
     "output_type": "execute_result"
    }
   ],
   "source": [
    "ps.size"
   ]
  },
  {
   "cell_type": "code",
   "execution_count": 96,
   "id": "d1b35163-fb7c-4809-8177-6c783e24ccc4",
   "metadata": {},
   "outputs": [],
   "source": [
    "import pandas as pd\n",
    "import datetime\n",
    "\n",
    "def longest_consecutive_dates_ps(series):\n",
    "    if series.empty:\n",
    "        return 0, None\n",
    "    elif series.size ==1:\n",
    "        return 1, series\n",
    "    day1 = datetime.timedelta(days=1)\n",
    "    grp = series.diff().ne(day1).cumsum()\n",
    "    df = pd.concat([ps, grp], axis=1)\n",
    "    df.columns=['date', 'group']\n",
    "    df_groupby=df.groupby('group').size().sort_values(axis=0, ascending=False)\n",
    "    maxgroup = df_groupby.index[0]\n",
    "    maxvalue = df_groupby[maxgroup]\n",
    "    dates = df['date'][df.group==maxgroup]\n",
    "    return maxvalue, dates\n",
    "    "
   ]
  },
  {
   "cell_type": "code",
   "execution_count": 97,
   "id": "27964f68-9487-40d8-9715-530633945e99",
   "metadata": {},
   "outputs": [
    {
     "data": {
      "text/plain": [
       "(7,\n",
       " 16   2005-02-22\n",
       " 17   2005-02-23\n",
       " 18   2005-02-24\n",
       " 19   2005-02-25\n",
       " 20   2005-02-26\n",
       " 21   2005-02-27\n",
       " 22   2005-02-28\n",
       " Name: date, dtype: datetime64[ns])"
      ]
     },
     "execution_count": 97,
     "metadata": {},
     "output_type": "execute_result"
    }
   ],
   "source": [
    "longest_consecutive_dates_ps(ps)"
   ]
  },
  {
   "cell_type": "code",
   "execution_count": 79,
   "id": "b1abfefb-5dca-42b1-a7d6-a5f03ee1f9a3",
   "metadata": {},
   "outputs": [],
   "source": [
    "def longest_consecutive_dates1(date_list):\n",
    "    if not date_list:\n",
    "        return 0, None\n",
    "    if len(date_list)==1:\n",
    "        return 1, date_list\n",
    "    \n",
    "    maxstart, maxend = 0, 0\n",
    "    istart = 0\n",
    "    for i in range(1, len(date_list)):\n",
    "        if date_list[i] - date_list[istart] != np.timedelta64(i-istart, 'D'):\n",
    "            if i - istart > maxend - maxstart:\n",
    "                maxstart, maxend = istart, i\n",
    "            istart = i\n",
    "    if i - istart > maxend - maxstart:\n",
    "        maxstart, maxend = istart, i   \n",
    "    # list range end is not inclusive - need to add 1 to make it inclusive:\n",
    "    maxend +=1\n",
    "    return len(date_list[maxstart:maxend]), date_list[maxstart:maxend]"
   ]
  },
  {
   "cell_type": "code",
   "execution_count": 80,
   "id": "c0d0d78f-9c6f-42c4-a10c-2f14291865e8",
   "metadata": {},
   "outputs": [
    {
     "data": {
      "text/plain": [
       "(7,\n",
       " [numpy.datetime64('2005-02-22'),\n",
       "  numpy.datetime64('2005-02-23'),\n",
       "  numpy.datetime64('2005-02-24'),\n",
       "  numpy.datetime64('2005-02-25'),\n",
       "  numpy.datetime64('2005-02-26'),\n",
       "  numpy.datetime64('2005-02-27'),\n",
       "  numpy.datetime64('2005-02-28')])"
      ]
     },
     "execution_count": 80,
     "metadata": {},
     "output_type": "execute_result"
    }
   ],
   "source": [
    "longest_consecutive_dates1(list(date_list))"
   ]
  },
  {
   "cell_type": "code",
   "execution_count": 81,
   "id": "d6be57af-49b9-4180-b028-339419418d02",
   "metadata": {},
   "outputs": [],
   "source": [
    "from datetime import timedelta, date\n",
    "\n",
    "def longest_consecutive_dates(date_list):\n",
    "\n",
    "    if not date_list:\n",
    "        return 0, None\n",
    "    if len(date_list)==1:\n",
    "        return 1, date_list\n",
    "    \n",
    "    # store the longest interval and the current consecutive interval\n",
    "    # as we iterate through a list\n",
    "    max_index = this_index =  0\n",
    "    max_len = this_len = 1\n",
    "\n",
    "    # using zip here to reduce the number of indexing operations\n",
    "    # this will turn the days list into [(2020-01-1, 2020-01-02), (2020-01-02, 2020-01-03), ...]\n",
    "    # use enumerate to get the index of the current day\n",
    "    day1 = timedelta(days=1)\n",
    "    for i in range(1, len(date_list)):\n",
    "        if date_list[i] - date_list[i-1] == day1:\n",
    "            this_len += 1         \n",
    "        else:\n",
    "            if this_len > max_len:\n",
    "                # we broke the record! record it as the longest interval\n",
    "                max_index = this_index\n",
    "                max_len = this_len               \n",
    "            this_index = i\n",
    "            this_len = 1            \n",
    "    if this_len > max_len:\n",
    "        # we broke the record! record it as the longest interval\n",
    "        max_index = this_index\n",
    "        max_len = this_len   \n",
    "\n",
    "    return max_len, date_list[max_index:max_index + max_len]"
   ]
  },
  {
   "cell_type": "code",
   "execution_count": 82,
   "id": "a68faa2c-2042-4d88-b8c0-e360de1f797d",
   "metadata": {},
   "outputs": [
    {
     "name": "stdout",
     "output_type": "stream",
     "text": [
      "(3, [datetime.date(2020, 1, 4), datetime.date(2020, 1, 5), datetime.date(2020, 1, 6)])\n"
     ]
    }
   ],
   "source": [
    "# example input\n",
    "days = [\n",
    "    date(2020, 1, 1), date(2020, 1, 2), date(2020, 1, 4),\n",
    "    date(2020, 1, 5), date(2020, 1, 6), date(2020, 1, 8),\n",
    "]\n",
    "print(longest_consecutive_dates(days))"
   ]
  },
  {
   "cell_type": "code",
   "execution_count": 83,
   "id": "1976ebc7-1e18-4dca-bc19-9db630bb337a",
   "metadata": {},
   "outputs": [
    {
     "name": "stdout",
     "output_type": "stream",
     "text": [
      "(7, [numpy.datetime64('2005-02-22'), numpy.datetime64('2005-02-23'), numpy.datetime64('2005-02-24'), numpy.datetime64('2005-02-25'), numpy.datetime64('2005-02-26'), numpy.datetime64('2005-02-27'), numpy.datetime64('2005-02-28')])\n"
     ]
    }
   ],
   "source": [
    "print(longest_consecutive_dates(list(date_list)))"
   ]
  },
  {
   "cell_type": "code",
   "execution_count": null,
   "id": "41117738-00c2-4551-8058-7ce44859f388",
   "metadata": {},
   "outputs": [],
   "source": []
  }
 ],
 "metadata": {
  "kernelspec": {
   "display_name": "Python 3 (ipykernel)",
   "language": "python",
   "name": "python3"
  },
  "language_info": {
   "codemirror_mode": {
    "name": "ipython",
    "version": 3
   },
   "file_extension": ".py",
   "mimetype": "text/x-python",
   "name": "python",
   "nbconvert_exporter": "python",
   "pygments_lexer": "ipython3",
   "version": "3.9.7"
  }
 },
 "nbformat": 4,
 "nbformat_minor": 5
}
